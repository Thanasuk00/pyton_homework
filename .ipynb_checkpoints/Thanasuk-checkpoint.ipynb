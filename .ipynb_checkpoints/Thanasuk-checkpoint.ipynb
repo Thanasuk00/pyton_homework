{
 "cells": [
  {
   "cell_type": "code",
   "execution_count": 1,
   "id": "bcdfc7ef-f6cd-497d-9833-e938c54d8502",
   "metadata": {
    "tags": []
   },
   "outputs": [
    {
     "name": "stdout",
     "output_type": "stream",
     "text": [
      "ธนาสุข เครือศรี\n"
     ]
    }
   ],
   "source": [
    "print (\"ธนาสุข เครือศรี\")"
   ]
  },
  {
   "cell_type": "code",
   "execution_count": null,
   "id": "5036f2c2-2fe6-44df-8d28-f5d05dbd9830",
   "metadata": {},
   "outputs": [],
   "source": []
  }
 ],
 "metadata": {
  "kernelspec": {
   "display_name": "Python 3 (ipykernel)",
   "language": "python",
   "name": "python3"
  },
  "language_info": {
   "codemirror_mode": {
    "name": "ipython",
    "version": 3
   },
   "file_extension": ".py",
   "mimetype": "text/x-python",
   "name": "python",
   "nbconvert_exporter": "python",
   "pygments_lexer": "ipython3",
   "version": "3.11.5"
  }
 },
 "nbformat": 4,
 "nbformat_minor": 5
}
